{
 "metadata": {
  "language_info": {
   "codemirror_mode": {
    "name": "ipython",
    "version": 3
   },
   "file_extension": ".py",
   "mimetype": "text/x-python",
   "name": "python",
   "nbconvert_exporter": "python",
   "pygments_lexer": "ipython3",
   "version": "3.8.5-final"
  },
  "orig_nbformat": 2,
  "kernelspec": {
   "name": "python3",
   "display_name": "Python 3.8.5 64-bit ('amal': conda)",
   "metadata": {
    "interpreter": {
     "hash": "3bbef4b9264f7c0cd71ec6690d78ed281ed3166658f05458b988dfc2e98a0cb8"
    }
   }
  }
 },
 "nbformat": 4,
 "nbformat_minor": 2,
 "cells": [
  {
   "cell_type": "code",
   "execution_count": 35,
   "metadata": {},
   "outputs": [],
   "source": [
    "import tqdm as tqdm\n",
    "import os\n",
    "import torch\n",
    "from torchvision.utils import make_grid\n",
    "from torch.utils.data import Dataset, DataLoader\n",
    "import torch.nn as nn\n",
    "import torch.nn.functional as F\n",
    "from torch.utils.tensorboard import SummaryWriter\n",
    "import numpy as np\n",
    "import datetime\n",
    "from torchvision import transforms  \n",
    "from torch.optim import lr_scheduler\n",
    "\n",
    "class TreeNode(object):\n",
    "     def __init__(self, n_eta, split_attribute_M, split_value,  y_pred,\n",
    "                        y_avg, posterior_var, posterior_mean,\n",
    "                        left=None, right=None):\n",
    "          self.n_eta = n_eta\n",
    "          self.split_attribute_M = split_attribute_M   # internal node\n",
    "          self.split_value = split_value  # internal node\n",
    "          self.y_pred = y_pred  # leaf\n",
    "          self.y_avg = y_avg # leaf\n",
    "          self.posterior_var = posterior_var # leaf\n",
    "          self.posterior_mean = posterior_mean  #leaf\n",
    "          self.left = left\n",
    "          self.right = right\n",
    "\n",
    "class NN(nn.Module):\n",
    "    def __init__(self,dim):\n",
    "        super(NN, self).__init__()\n",
    "        self.lin = nn.Sequential(\n",
    "            nn.Linear(dim, 32),\n",
    "            nn.Linear(32, dim),\n",
    "            nn.Sigmoid()\n",
    "        )\n",
    "\n",
    "    def forward(self, input):\n",
    "        return self.lin(input)\n",
    "\n",
    "    def set_connections(self,node):\n",
    "        pass"
   ]
  },
  {
   "cell_type": "code",
   "execution_count": 30,
   "metadata": {},
   "outputs": [],
   "source": [
    "trees = []\n",
    "with open('mydata.txt', 'r') as fp:\n",
    "    for line in fp.readlines():\n",
    "        vals = iter(line.split())\n",
    "\n",
    "        def helper():\n",
    "            val = next(vals)\n",
    "            if val == '#':ele\n",
    "                return None\n",
    "            elems = val.split(\"@\")\n",
    "            node = TreeNode(float(elems[0]), float(elems[1]), \n",
    "                            float(elems[2]), float(elems[3]), \n",
    "                            float(elems[4]),float(elems[5]), float(elems[6]))\n",
    "            node.left = helper()\n",
    "            node.right = helper()\n",
    "            return node\n",
    "        trees.append(helper())\n",
    "        "
   ]
  }
 ]
}