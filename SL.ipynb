{
 "metadata": {
  "language_info": {
   "codemirror_mode": {
    "name": "ipython",
    "version": 3
   },
   "file_extension": ".py",
   "mimetype": "text/x-python",
   "name": "python",
   "nbconvert_exporter": "python",
   "pygments_lexer": "ipython3",
   "version": "3.8.5-final"
  },
  "orig_nbformat": 2,
  "kernelspec": {
   "name": "python3",
   "display_name": "Python 3.8.5 64-bit ('amal': conda)",
   "metadata": {
    "interpreter": {
     "hash": "3bbef4b9264f7c0cd71ec6690d78ed281ed3166658f05458b988dfc2e98a0cb8"
    }
   }
  }
 },
 "nbformat": 4,
 "nbformat_minor": 2,
 "cells": [
  {
   "cell_type": "code",
   "execution_count": 149,
   "metadata": {},
   "outputs": [],
   "source": [
    "import tqdm as tqdm\n",
    "import os\n",
    "import torch\n",
    "from torchvision.utils import make_grid\n",
    "from torch.utils.data import Dataset, DataLoader\n",
    "import torch.nn as nn\n",
    "import torch.nn.functional as F\n",
    "from torch.utils.tensorboard import SummaryWriter\n",
    "import numpy as np\n",
    "import datetime\n",
    "from torchvision import transforms  \n",
    "from torch.optim import lr_scheduler\n",
    "\n",
    "class TreeNode(object):\n",
    "     def __init__(self, n_eta=None, split_attribute_M= 0, split_value=0,  y_pred=None,\n",
    "                        y_avg=None, posterior_var=None, posterior_mean=None,\n",
    "                        left=None, right=None):\n",
    "          self.n_eta = n_eta\n",
    "          self.split_attribute_M = split_attribute_M   # internal node\n",
    "          self.split_value = split_value  # internal node\n",
    "          self.y_pred = y_pred  # leaf\n",
    "          self.y_avg = y_avg # leaf\n",
    "          self.posterior_var = posterior_var # leaf\n",
    "          self.posterior_mean = posterior_mean  #leaf\n",
    "          self.left = left\n",
    "          self.right = right\n",
    "\n",
    "def inner_decisions(node, leafinfo, k):\n",
    "    decisions_pairs= []\n",
    "    all_paths = []\n",
    "    leafinfos = leafinfo.copy()\n",
    "    if(node.left==None and node.right==None):\n",
    "        return decisions_pairs, [(k, node.y_avg, leafinfos)], k\n",
    "    else:\n",
    "        decisions_pairs.append((k, node.split_attribute_M, node.split_value))\n",
    "\n",
    "        leafinfos.append((k, -1))\n",
    "        dec, paths, K =  inner_decisions(node.left, leafinfos, k+1)\n",
    "        decisions_pairs.extend(dec)\n",
    "        all_paths.extend(paths)\n",
    "\n",
    "        leafinfos.pop()\n",
    "        leafinfos.append((k, +1))\n",
    "        dec, paths , K =  inner_decisions(node.right, leafinfos, K+1)\n",
    "        decisions_pairs.extend(dec)\n",
    "        all_paths.extend(paths)\n",
    "\n",
    "    return decisions_pairs, all_paths, K"
   ]
  },
  {
   "cell_type": "code",
   "execution_count": 15,
   "metadata": {},
   "outputs": [],
   "source": [
    "trees = []\n",
    "with open('mydata.txt', 'r') as fp:\n",
    "    for line in fp.readlines():\n",
    "        vals = iter(line.split())\n",
    "\n",
    "        def helper():\n",
    "            val = next(vals)\n",
    "            if val == '#':\n",
    "                return None\n",
    "            elems = val.split(\"@\")\n",
    "            node = TreeNode(n_eta = float(elems[0]), split_attribute_M = float(elems[1]), \n",
    "                            split_value = float(elems[2]), y_pred=float(elems[3]), \n",
    "                             y_avg= float(elems[4]),posterior_var= float(elems[5]), posterior_mean=float(elems[6]))\n",
    "            node.left = helper()\n",
    "            node.right = helper()\n",
    "            return node\n",
    "        trees.append(helper())\n",
    "        "
   ]
  },
  {
   "cell_type": "code",
   "execution_count": 80,
   "metadata": {},
   "outputs": [
    {
     "output_type": "execute_result",
     "data": {
      "text/plain": [
       "<__main__.TreeNode at 0x7f3a45f9caf0>"
      ]
     },
     "metadata": {},
     "execution_count": 80
    }
   ],
   "source": [
    "left = TreeNode(n_eta=1, left = TreeNode(n_eta=2) , right =TreeNode(n_eta=3, left= TreeNode(n_eta=4), right= TreeNode(n_eta=5)))\n",
    "right = TreeNode(n_eta=6, left = TreeNode(n_eta=7) , right =TreeNode(n_eta=8, left= TreeNode(n_eta=9), right= TreeNode(n_eta=10)))\n",
    "tree = TreeNode(n_eta=0, left=left, right=right)\n",
    "tree"
   ]
  },
  {
   "cell_type": "code",
   "execution_count": 135,
   "metadata": {},
   "outputs": [
    {
     "output_type": "stream",
     "name": "stdout",
     "text": [
      "[(0, 0, 0), (1, 0, 0), (3, 0, 0), (6, 0, 0), (8, 0, 0)]\n[(2, None, [(0, -1), (1, -1)]), (4, None, [(0, -1), (1, 1), (3, -1)]), (5, None, [(0, -1), (1, 1), (3, 1)]), (7, None, [(0, 1), (6, -1)]), (9, None, [(0, 1), (6, 1), (8, -1)]), (10, None, [(0, 1), (6, 1), (8, 1)])]\n"
     ]
    }
   ],
   "source": [
    "# test\n",
    "decisions, paths, K = inner_decisions(tree, [], k = 0)\n",
    "print(decisions)\n",
    "print(paths)"
   ]
  },
  {
   "cell_type": "code",
   "execution_count": 156,
   "metadata": {},
   "outputs": [],
   "source": [
    "class NN(nn.Module):\n",
    "    def __init__(self, inner_decisions, paths, input_dim = 42, gamma1 = 1.0, gamma2 = 1.0):\n",
    "        super(NN, self).__init__()\n",
    "        self.gamma1 = gamma1\n",
    "        self.gamma2 = gamma2\n",
    "\n",
    "        self.dic = {}\n",
    "        self.lin1 = nn.Linear(input_dim, len(inner_decisions))\n",
    "        self.set_connections_1_layer(inner_decisions)\n",
    "\n",
    "        self.lin2 = nn.Linear(len(inner_decisions), 1 + len(inner_decisions))\n",
    "        self.avgs = []\n",
    "        self.set_connections_2_layer(paths)\n",
    "\n",
    "        self.lin3 = nn.Linear(1+len(inner_decisions), 1)\n",
    "        self.set_connections_3_layer()\n",
    "\n",
    "\n",
    "    def forward(self, x):\n",
    "        mid = self.lin1(x)\n",
    "        mid = self.lin2(torch.tanh(self,gamma1*mid))\n",
    "        return self.lin2(torch.tanh(self,gamma2*mid))\n",
    "\n",
    "    def set_connections_1_layer(self, inner_decisions):\n",
    "        self.lin1.weight.data = torch.zeros(self.lin1.weight.shape)\n",
    "        self.lin1.bias.data = torch.zeros(self.lin1.bias.shape)\n",
    "        for i, elem in enumerate(inner_decisions):\n",
    "            # node k to layer index\n",
    "            self.dic[elem[0]] = i \n",
    "\n",
    "            self.lin1.weight.data[i, int(elem[1])] = 1\n",
    "            self.lin1.bias[i] = elem[2]\n",
    "\n",
    "    def set_connections_2_layer(self, paths):\n",
    "        self.lin2.weight.data = torch.zeros(self.lin2.weight.shape)\n",
    "        self.lin2.bias.data = torch.zeros(self.lin2.bias.shape)\n",
    "        for i, elem in enumerate(paths):\n",
    "            _, avg, tuples = elem\n",
    "            self.avgs.append(avg)\n",
    "            self.lin2.bias[i] = (-len(tuples) +1/2)\n",
    "            for a in tuples:\n",
    "                self.lin2.weight.data[i, self.dic[a[0]]] = a[1] \n",
    "\n",
    "    def set_connections_3_layer(self):\n",
    "        self.lin3.weight.data = 0.5*torch.as_tensor(self.avgs)\n",
    "        self.lin3.bias.data = self.lin3.weight.data.sum()\n",
    "\n",
    "\n",
    "decisions, paths, _ =  inner_decisions(trees[44], [], 0)\n",
    "NeN= NN(decisions, paths)\n"
   ]
  },
  {
   "cell_type": "code",
   "execution_count": 159,
   "metadata": {},
   "outputs": [
    {
     "output_type": "execute_result",
     "data": {
      "text/plain": [
       "tensor(0.0883, grad_fn=<AddBackward0>)"
      ]
     },
     "metadata": {},
     "execution_count": 159
    }
   ],
   "source": [
    "NeN(torch.zeros(42))"
   ]
  }
 ]
}